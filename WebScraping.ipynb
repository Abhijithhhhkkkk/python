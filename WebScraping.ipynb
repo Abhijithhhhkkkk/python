{
 "cells": [
  {
   "cell_type": "code",
   "execution_count": 86,
   "id": "c170334e-1fd1-4ed1-a152-60f4a16b90e4",
   "metadata": {},
   "outputs": [],
   "source": [
    "import pandas as pd\n",
    "import numpy as numpy\n",
    "from bs4 import BeautifulSoup\n",
    "import requests\n"
   ]
  },
  {
   "cell_type": "code",
   "execution_count": 88,
   "id": "cec13123-1cf1-4b8b-9df4-0d87628e059f",
   "metadata": {},
   "outputs": [],
   "source": [
    "url=\"https://populationtoday.com/\"\n",
    "html=requests.get(url)"
   ]
  },
  {
   "cell_type": "code",
   "execution_count": 89,
   "id": "3bcb3865-366c-4b0b-a258-6a4bde29381e",
   "metadata": {},
   "outputs": [],
   "source": [
    "soup=BeautifulSoup(html.text,'html.parser')"
   ]
  },
  {
   "cell_type": "code",
   "execution_count": 90,
   "id": "56d5411d-db2d-4aed-9811-742e6a0a0ff7",
   "metadata": {},
   "outputs": [
    {
     "data": {
      "text/plain": [
       "5"
      ]
     },
     "execution_count": 90,
     "metadata": {},
     "output_type": "execute_result"
    }
   ],
   "source": [
    "tables=soup.find_all(\"table\")\n",
    "len(tables)"
   ]
  },
  {
   "cell_type": "code",
   "execution_count": 94,
   "id": "a10b6bcc-d6e2-4428-987c-eb934dd42cbf",
   "metadata": {},
   "outputs": [
    {
     "name": "stdout",
     "output_type": "stream",
     "text": [
      "4\n"
     ]
    }
   ],
   "source": [
    "table_index=0\n",
    "for index,table in enumerate(tables):\n",
    "    if(\"Equivalent world\" in str(table)):\n",
    "        table_index=index\n",
    "print(table_index)"
   ]
  },
  {
   "cell_type": "code",
   "execution_count": 96,
   "id": "e51c5752-8cc7-418b-bcb4-dd549f396a2d",
   "metadata": {},
   "outputs": [
    {
     "data": {
      "text/plain": [
       "<table><thead><tr><th style=\"width:40px\">Rank</th><th style=\"width:40px\">Iso</th><th>Country</th><th>Population</th><th>Equivalent world</th></tr></thead><tbody><tr><td>1</td><td>IN</td><td class=\"nowrap\"><a href=\"https://populationtoday.com/in-india/\" title=\"India population\"><span class=\"flag\" style=\"background-position:0 40.909091%;\"></span> India</a></td><td>1,464,079,327</td><td>17.78%</td></tr><tr><td>2</td><td>CN</td><td class=\"nowrap\"><a href=\"https://populationtoday.com/cn-china/\" title=\"People's Republic of China population\"><span class=\"flag\" style=\"background-position:0 19.008264%;\"></span> People's Republ...</a></td><td>1,416,035,168</td><td>17.3%</td></tr><tr><td>3</td><td>US</td><td class=\"nowrap\"><a href=\"https://populationtoday.com/us-united-states/\" title=\"United States of America population\"><span class=\"flag\" style=\"background-position:0 93.38843%;\"></span> United States o...</a></td><td>347,307,682</td><td>4.23%</td></tr><tr><td>4</td><td>ID</td><td class=\"nowrap\"><a href=\"https://populationtoday.com/id-indonesia/\" title=\"Indonesia population\"><span class=\"flag\" style=\"background-position:0 39.669421%;\"></span> Indonesia</a></td><td>285,757,348</td><td>3.47%</td></tr><tr><td>5</td><td>PK</td><td class=\"nowrap\"><a href=\"https://populationtoday.com/pk-pakistan/\" title=\"Pakistan population\"><span class=\"flag\" style=\"background-position:0 70.247934%;\"></span> Pakistan</a></td><td>255,277,538</td><td>3.09%</td></tr><tr><td>6</td><td>NG</td><td class=\"nowrap\"><a href=\"https://populationtoday.com/ng-nigeria/\" title=\"Nigeria population\"><span class=\"flag\" style=\"background-position:0 64.46281%;\"></span> Nigeria</a></td><td>237,593,304</td><td>2.87%</td></tr><tr><td>7</td><td>BR</td><td class=\"nowrap\"><a href=\"https://populationtoday.com/br-brazil/\" title=\"Brazil population\"><span class=\"flag\" style=\"background-position:0 11.983471%;\"></span> Brazil</a></td><td>212,825,900</td><td>2.59%</td></tr><tr><td>8</td><td>BD</td><td class=\"nowrap\"><a href=\"https://populationtoday.com/bd-bangladesh/\" title=\"Bangladesh population\"><span class=\"flag\" style=\"background-position:0 7.85124%;\"></span> Bangladesh</a></td><td>175,720,285</td><td>2.13%</td></tr><tr><td>9</td><td>RU</td><td class=\"nowrap\"><a href=\"https://populationtoday.com/ru-russia/\" title=\"Russia population\"><span class=\"flag\" style=\"background-position:0 75.206612%;\"></span> Russia</a></td><td>143,979,829</td><td>1.76%</td></tr><tr><td>10</td><td>ET</td><td class=\"nowrap\"><a href=\"https://populationtoday.com/et-ethiopia/\" title=\"Ethiopia population\"><span class=\"flag\" style=\"background-position:0 27.272727%;\"></span> Ethiopia</a></td><td>135,513,409</td><td>1.63%</td></tr></tbody></table>"
      ]
     },
     "execution_count": 96,
     "metadata": {},
     "output_type": "execute_result"
    }
   ],
   "source": [
    "tables[4]"
   ]
  },
  {
   "cell_type": "code",
   "execution_count": 98,
   "id": "9232e3f2-d2ef-44f6-8a9a-9cadf5c721f1",
   "metadata": {},
   "outputs": [],
   "source": [
    "population_data=pd.DataFrame(columns=[\"Rank\",\"Iso\",\"Country\",\"Population\",\"\tEquivalent_world\"])\n",
    "for row in tables[table_index].tbody.find_all(\"tr\"):\n",
    "    col=row.find_all(\"td\")\n",
    "    if col:\n",
    "        rank=col[0].text\n",
    "        iso=col[1].text\n",
    "        country=col[2].text\n",
    "        population=col[3].text\n",
    "        Equivalent_world=col[4].text\n",
    "        new_row=pd.DataFrame({'Rank':[rank],\"Iso\":[iso],\"Country\":[country],\"Population\":[population],\"Equivalent_world\":[Equivalent_world]})\n",
    "        population_data=pd.concat([population_data,new_row],ignore_index=True)"
   ]
  },
  {
   "cell_type": "code",
   "execution_count": 100,
   "id": "170c53fb-35cc-40bd-bebf-e2476b115127",
   "metadata": {},
   "outputs": [
    {
     "data": {
      "text/html": [
       "<div>\n",
       "<style scoped>\n",
       "    .dataframe tbody tr th:only-of-type {\n",
       "        vertical-align: middle;\n",
       "    }\n",
       "\n",
       "    .dataframe tbody tr th {\n",
       "        vertical-align: top;\n",
       "    }\n",
       "\n",
       "    .dataframe thead th {\n",
       "        text-align: right;\n",
       "    }\n",
       "</style>\n",
       "<table border=\"1\" class=\"dataframe\">\n",
       "  <thead>\n",
       "    <tr style=\"text-align: right;\">\n",
       "      <th></th>\n",
       "      <th>Rank</th>\n",
       "      <th>Iso</th>\n",
       "      <th>Country</th>\n",
       "      <th>Population</th>\n",
       "      <th>\\tEquivalent_world</th>\n",
       "      <th>Equivalent_world</th>\n",
       "    </tr>\n",
       "  </thead>\n",
       "  <tbody>\n",
       "    <tr>\n",
       "      <th>0</th>\n",
       "      <td>1</td>\n",
       "      <td>IN</td>\n",
       "      <td>India</td>\n",
       "      <td>1,464,079,327</td>\n",
       "      <td>NaN</td>\n",
       "      <td>17.78%</td>\n",
       "    </tr>\n",
       "    <tr>\n",
       "      <th>1</th>\n",
       "      <td>2</td>\n",
       "      <td>CN</td>\n",
       "      <td>People's Republ...</td>\n",
       "      <td>1,416,035,168</td>\n",
       "      <td>NaN</td>\n",
       "      <td>17.3%</td>\n",
       "    </tr>\n",
       "    <tr>\n",
       "      <th>2</th>\n",
       "      <td>3</td>\n",
       "      <td>US</td>\n",
       "      <td>United States o...</td>\n",
       "      <td>347,307,682</td>\n",
       "      <td>NaN</td>\n",
       "      <td>4.23%</td>\n",
       "    </tr>\n",
       "    <tr>\n",
       "      <th>3</th>\n",
       "      <td>4</td>\n",
       "      <td>ID</td>\n",
       "      <td>Indonesia</td>\n",
       "      <td>285,757,348</td>\n",
       "      <td>NaN</td>\n",
       "      <td>3.47%</td>\n",
       "    </tr>\n",
       "    <tr>\n",
       "      <th>4</th>\n",
       "      <td>5</td>\n",
       "      <td>PK</td>\n",
       "      <td>Pakistan</td>\n",
       "      <td>255,277,538</td>\n",
       "      <td>NaN</td>\n",
       "      <td>3.09%</td>\n",
       "    </tr>\n",
       "  </tbody>\n",
       "</table>\n",
       "</div>"
      ],
      "text/plain": [
       "  Rank Iso              Country     Population \\tEquivalent_world  \\\n",
       "0    1  IN                India  1,464,079,327                NaN   \n",
       "1    2  CN   People's Republ...  1,416,035,168                NaN   \n",
       "2    3  US   United States o...    347,307,682                NaN   \n",
       "3    4  ID            Indonesia    285,757,348                NaN   \n",
       "4    5  PK             Pakistan    255,277,538                NaN   \n",
       "\n",
       "  Equivalent_world  \n",
       "0           17.78%  \n",
       "1            17.3%  \n",
       "2            4.23%  \n",
       "3            3.47%  \n",
       "4            3.09%  "
      ]
     },
     "execution_count": 100,
     "metadata": {},
     "output_type": "execute_result"
    }
   ],
   "source": [
    "population_data.head()"
   ]
  },
  {
   "cell_type": "code",
   "execution_count": 102,
   "id": "b7770d0d-db4e-468d-8bf3-ce59d4133e93",
   "metadata": {},
   "outputs": [],
   "source": [
    "population_data= population_data.drop(\"\\tEquivalent_world\",axis=1)"
   ]
  },
  {
   "cell_type": "code",
   "execution_count": 104,
   "id": "a893dc82-ed7a-4497-8b26-67e83b5e7e04",
   "metadata": {},
   "outputs": [
    {
     "data": {
      "text/html": [
       "<div>\n",
       "<style scoped>\n",
       "    .dataframe tbody tr th:only-of-type {\n",
       "        vertical-align: middle;\n",
       "    }\n",
       "\n",
       "    .dataframe tbody tr th {\n",
       "        vertical-align: top;\n",
       "    }\n",
       "\n",
       "    .dataframe thead th {\n",
       "        text-align: right;\n",
       "    }\n",
       "</style>\n",
       "<table border=\"1\" class=\"dataframe\">\n",
       "  <thead>\n",
       "    <tr style=\"text-align: right;\">\n",
       "      <th></th>\n",
       "      <th>Rank</th>\n",
       "      <th>Iso</th>\n",
       "      <th>Country</th>\n",
       "      <th>Population</th>\n",
       "      <th>Equivalent_world</th>\n",
       "    </tr>\n",
       "  </thead>\n",
       "  <tbody>\n",
       "    <tr>\n",
       "      <th>0</th>\n",
       "      <td>1</td>\n",
       "      <td>IN</td>\n",
       "      <td>India</td>\n",
       "      <td>1,464,079,327</td>\n",
       "      <td>17.78%</td>\n",
       "    </tr>\n",
       "    <tr>\n",
       "      <th>1</th>\n",
       "      <td>2</td>\n",
       "      <td>CN</td>\n",
       "      <td>People's Republ...</td>\n",
       "      <td>1,416,035,168</td>\n",
       "      <td>17.3%</td>\n",
       "    </tr>\n",
       "    <tr>\n",
       "      <th>2</th>\n",
       "      <td>3</td>\n",
       "      <td>US</td>\n",
       "      <td>United States o...</td>\n",
       "      <td>347,307,682</td>\n",
       "      <td>4.23%</td>\n",
       "    </tr>\n",
       "    <tr>\n",
       "      <th>3</th>\n",
       "      <td>4</td>\n",
       "      <td>ID</td>\n",
       "      <td>Indonesia</td>\n",
       "      <td>285,757,348</td>\n",
       "      <td>3.47%</td>\n",
       "    </tr>\n",
       "    <tr>\n",
       "      <th>4</th>\n",
       "      <td>5</td>\n",
       "      <td>PK</td>\n",
       "      <td>Pakistan</td>\n",
       "      <td>255,277,538</td>\n",
       "      <td>3.09%</td>\n",
       "    </tr>\n",
       "    <tr>\n",
       "      <th>5</th>\n",
       "      <td>6</td>\n",
       "      <td>NG</td>\n",
       "      <td>Nigeria</td>\n",
       "      <td>237,593,304</td>\n",
       "      <td>2.87%</td>\n",
       "    </tr>\n",
       "    <tr>\n",
       "      <th>6</th>\n",
       "      <td>7</td>\n",
       "      <td>BR</td>\n",
       "      <td>Brazil</td>\n",
       "      <td>212,825,900</td>\n",
       "      <td>2.59%</td>\n",
       "    </tr>\n",
       "    <tr>\n",
       "      <th>7</th>\n",
       "      <td>8</td>\n",
       "      <td>BD</td>\n",
       "      <td>Bangladesh</td>\n",
       "      <td>175,720,285</td>\n",
       "      <td>2.13%</td>\n",
       "    </tr>\n",
       "    <tr>\n",
       "      <th>8</th>\n",
       "      <td>9</td>\n",
       "      <td>RU</td>\n",
       "      <td>Russia</td>\n",
       "      <td>143,979,829</td>\n",
       "      <td>1.76%</td>\n",
       "    </tr>\n",
       "    <tr>\n",
       "      <th>9</th>\n",
       "      <td>10</td>\n",
       "      <td>ET</td>\n",
       "      <td>Ethiopia</td>\n",
       "      <td>135,513,409</td>\n",
       "      <td>1.63%</td>\n",
       "    </tr>\n",
       "  </tbody>\n",
       "</table>\n",
       "</div>"
      ],
      "text/plain": [
       "  Rank Iso              Country     Population Equivalent_world\n",
       "0    1  IN                India  1,464,079,327           17.78%\n",
       "1    2  CN   People's Republ...  1,416,035,168            17.3%\n",
       "2    3  US   United States o...    347,307,682            4.23%\n",
       "3    4  ID            Indonesia    285,757,348            3.47%\n",
       "4    5  PK             Pakistan    255,277,538            3.09%\n",
       "5    6  NG              Nigeria    237,593,304            2.87%\n",
       "6    7  BR               Brazil    212,825,900            2.59%\n",
       "7    8  BD           Bangladesh    175,720,285            2.13%\n",
       "8    9  RU               Russia    143,979,829            1.76%\n",
       "9   10  ET             Ethiopia    135,513,409            1.63%"
      ]
     },
     "execution_count": 104,
     "metadata": {},
     "output_type": "execute_result"
    }
   ],
   "source": [
    "population_data"
   ]
  },
  {
   "cell_type": "code",
   "execution_count": 161,
   "id": "56a01eb1-0901-482b-9e1b-c63b4f24734e",
   "metadata": {},
   "outputs": [],
   "source": [
    "df=pd.read_html(\"https://countries-worldwide.com/largest-countries/\")"
   ]
  },
  {
   "cell_type": "code",
   "execution_count": 162,
   "id": "9b9ab863-6ce0-44a2-a10c-30908f8eaf49",
   "metadata": {},
   "outputs": [
    {
     "name": "stderr",
     "output_type": "stream",
     "text": [
      "C:\\Users\\abhijith\\AppData\\Local\\Temp\\ipykernel_11488\\1918227324.py:6: SettingWithCopyWarning: \n",
      "A value is trying to be set on a copy of a slice from a DataFrame.\n",
      "Try using .loc[row_indexer,col_indexer] = value instead\n",
      "\n",
      "See the caveats in the documentation: https://pandas.pydata.org/pandas-docs/stable/user_guide/indexing.html#returning-a-view-versus-a-copy\n",
      "  area_df['Country'] = area_df['Country'].str.strip()\n"
     ]
    }
   ],
   "source": [
    "df=df[0]\n",
    "df.loc[df[\"Country\"]== 'United States *', 'Country'] = 'United States o... '\n",
    "df.loc[df[\"Country\"]== 'China', 'Country'] =\"People's Republ...\"\n",
    "area_df = df[['Country', 'Total area in (km2)', 'Continent']]\n",
    "population_data['Country'] = population_data['Country'].str.strip()\n",
    "area_df['Country'] = area_df['Country'].str.strip()\n",
    "\n",
    "\n",
    "merged_df = pd.merge(population_data, area_df, on='Country', how='left')\n",
    "\n"
   ]
  },
  {
   "cell_type": "code",
   "execution_count": 165,
   "id": "5f251154-8d54-4296-9f19-c6e8eb196975",
   "metadata": {},
   "outputs": [],
   "source": [
    "merged_df['Equivalent_world'] = merged_df['Equivalent_world'].str.replace('%', '', regex=False)\n"
   ]
  },
  {
   "cell_type": "code",
   "execution_count": 167,
   "id": "cf9832b4-98c3-4132-ad10-ed9698443638",
   "metadata": {},
   "outputs": [
    {
     "data": {
      "text/html": [
       "<div>\n",
       "<style scoped>\n",
       "    .dataframe tbody tr th:only-of-type {\n",
       "        vertical-align: middle;\n",
       "    }\n",
       "\n",
       "    .dataframe tbody tr th {\n",
       "        vertical-align: top;\n",
       "    }\n",
       "\n",
       "    .dataframe thead th {\n",
       "        text-align: right;\n",
       "    }\n",
       "</style>\n",
       "<table border=\"1\" class=\"dataframe\">\n",
       "  <thead>\n",
       "    <tr style=\"text-align: right;\">\n",
       "      <th></th>\n",
       "      <th>Rank</th>\n",
       "      <th>Iso</th>\n",
       "      <th>Country</th>\n",
       "      <th>Population</th>\n",
       "      <th>Equivalent_world</th>\n",
       "      <th>Total area in (km2)</th>\n",
       "      <th>Continent</th>\n",
       "    </tr>\n",
       "  </thead>\n",
       "  <tbody>\n",
       "    <tr>\n",
       "      <th>0</th>\n",
       "      <td>1</td>\n",
       "      <td>IN</td>\n",
       "      <td>India</td>\n",
       "      <td>1,464,079,327</td>\n",
       "      <td>17.78</td>\n",
       "      <td>3287263</td>\n",
       "      <td>Asia</td>\n",
       "    </tr>\n",
       "    <tr>\n",
       "      <th>1</th>\n",
       "      <td>2</td>\n",
       "      <td>CN</td>\n",
       "      <td>People's Republ...</td>\n",
       "      <td>1,416,035,168</td>\n",
       "      <td>17.3</td>\n",
       "      <td>9596961</td>\n",
       "      <td>Asia</td>\n",
       "    </tr>\n",
       "    <tr>\n",
       "      <th>2</th>\n",
       "      <td>3</td>\n",
       "      <td>US</td>\n",
       "      <td>United States o...</td>\n",
       "      <td>347,307,682</td>\n",
       "      <td>4.23</td>\n",
       "      <td>9857348</td>\n",
       "      <td>North America</td>\n",
       "    </tr>\n",
       "    <tr>\n",
       "      <th>3</th>\n",
       "      <td>4</td>\n",
       "      <td>ID</td>\n",
       "      <td>Indonesia</td>\n",
       "      <td>285,757,348</td>\n",
       "      <td>3.47</td>\n",
       "      <td>1904569</td>\n",
       "      <td>Asia</td>\n",
       "    </tr>\n",
       "    <tr>\n",
       "      <th>4</th>\n",
       "      <td>5</td>\n",
       "      <td>PK</td>\n",
       "      <td>Pakistan</td>\n",
       "      <td>255,277,538</td>\n",
       "      <td>3.09</td>\n",
       "      <td>796095</td>\n",
       "      <td>Asia</td>\n",
       "    </tr>\n",
       "    <tr>\n",
       "      <th>5</th>\n",
       "      <td>6</td>\n",
       "      <td>NG</td>\n",
       "      <td>Nigeria</td>\n",
       "      <td>237,593,304</td>\n",
       "      <td>2.87</td>\n",
       "      <td>923768</td>\n",
       "      <td>Africa</td>\n",
       "    </tr>\n",
       "    <tr>\n",
       "      <th>6</th>\n",
       "      <td>7</td>\n",
       "      <td>BR</td>\n",
       "      <td>Brazil</td>\n",
       "      <td>212,825,900</td>\n",
       "      <td>2.59</td>\n",
       "      <td>8515770</td>\n",
       "      <td>South America</td>\n",
       "    </tr>\n",
       "    <tr>\n",
       "      <th>7</th>\n",
       "      <td>8</td>\n",
       "      <td>BD</td>\n",
       "      <td>Bangladesh</td>\n",
       "      <td>175,720,285</td>\n",
       "      <td>2.13</td>\n",
       "      <td>143998</td>\n",
       "      <td>Asia</td>\n",
       "    </tr>\n",
       "    <tr>\n",
       "      <th>8</th>\n",
       "      <td>9</td>\n",
       "      <td>RU</td>\n",
       "      <td>Russia</td>\n",
       "      <td>143,979,829</td>\n",
       "      <td>1.76</td>\n",
       "      <td>17098242</td>\n",
       "      <td>Europe/Asia</td>\n",
       "    </tr>\n",
       "    <tr>\n",
       "      <th>9</th>\n",
       "      <td>10</td>\n",
       "      <td>ET</td>\n",
       "      <td>Ethiopia</td>\n",
       "      <td>135,513,409</td>\n",
       "      <td>1.63</td>\n",
       "      <td>1104300</td>\n",
       "      <td>Africa</td>\n",
       "    </tr>\n",
       "  </tbody>\n",
       "</table>\n",
       "</div>"
      ],
      "text/plain": [
       "  Rank Iso             Country     Population Equivalent_world  \\\n",
       "0    1  IN               India  1,464,079,327            17.78   \n",
       "1    2  CN  People's Republ...  1,416,035,168             17.3   \n",
       "2    3  US  United States o...    347,307,682             4.23   \n",
       "3    4  ID           Indonesia    285,757,348             3.47   \n",
       "4    5  PK            Pakistan    255,277,538             3.09   \n",
       "5    6  NG             Nigeria    237,593,304             2.87   \n",
       "6    7  BR              Brazil    212,825,900             2.59   \n",
       "7    8  BD          Bangladesh    175,720,285             2.13   \n",
       "8    9  RU              Russia    143,979,829             1.76   \n",
       "9   10  ET            Ethiopia    135,513,409             1.63   \n",
       "\n",
       "   Total area in (km2)      Continent  \n",
       "0              3287263           Asia  \n",
       "1              9596961           Asia  \n",
       "2              9857348  North America  \n",
       "3              1904569           Asia  \n",
       "4               796095           Asia  \n",
       "5               923768         Africa  \n",
       "6              8515770  South America  \n",
       "7               143998           Asia  \n",
       "8             17098242    Europe/Asia  \n",
       "9              1104300         Africa  "
      ]
     },
     "execution_count": 167,
     "metadata": {},
     "output_type": "execute_result"
    }
   ],
   "source": [
    "merged_df"
   ]
  },
  {
   "cell_type": "code",
   "execution_count": null,
   "id": "fe627f37-d3e6-42d9-8308-afc4a65a6a3a",
   "metadata": {},
   "outputs": [],
   "source": [
    "merged_df.loc[df[\"Country\"]== 'United States o...', 'Country'] = 'United States'\n",
    "df.loc[df[\"Country\"]== \"People's Republ...', 'Country'] =\"People's Republ...\""
   ]
  },
  {
   "cell_type": "code",
   "execution_count": null,
   "id": "17207490-5cc3-4a2d-92b4-a84a8682594d",
   "metadata": {},
   "outputs": [],
   "source": []
  }
 ],
 "metadata": {
  "kernelspec": {
   "display_name": "Python [conda env:base] *",
   "language": "python",
   "name": "conda-base-py"
  },
  "language_info": {
   "codemirror_mode": {
    "name": "ipython",
    "version": 3
   },
   "file_extension": ".py",
   "mimetype": "text/x-python",
   "name": "python",
   "nbconvert_exporter": "python",
   "pygments_lexer": "ipython3",
   "version": "3.12.7"
  }
 },
 "nbformat": 4,
 "nbformat_minor": 5
}
